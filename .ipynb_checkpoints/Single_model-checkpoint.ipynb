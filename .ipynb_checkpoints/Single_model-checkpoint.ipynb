{
 "cells": [
  {
   "cell_type": "markdown",
   "metadata": {},
   "source": [
    "# Single model"
   ]
  },
  {
   "cell_type": "markdown",
   "metadata": {},
   "source": [
    "Это модель нейронной сети, в которую по очереди загружаются чанки с данными. Главная проблема - это совместимость по фичам. Решается она при помощи генерации общего списка фичей и промежуточного датафрейма в который вписываются все фичи которые есть в чанке, а все недостающие фичи заполняются нулями, потому что такие значения признаков просто не встречались в текущем чанке."
   ]
  },
  {
   "cell_type": "code",
   "execution_count": 1,
   "metadata": {
    "tags": []
   },
   "outputs": [],
   "source": [
    "import os\n",
    "import gc\n",
    "import itertools\n",
    "import warnings\n",
    "warnings.filterwarnings('ignore')\n",
    "\n",
    "import pandas as pd\n",
    "import numpy as np\n",
    "import matplotlib.pyplot as plt\n",
    "\n",
    "from datetime import datetime\n",
    "from sklearn.preprocessing import OneHotEncoder\n",
    "from sklearn.metrics import RocCurveDisplay, roc_curve, auc, classification_report, confusion_matrix\n",
    "from sklearn.model_selection import train_test_split\n",
    "from sklearn.preprocessing import StandardScaler\n",
    "from sklearn.preprocessing import MinMaxScaler\n",
    "from sklearn.utils import class_weight\n",
    "\n",
    "import torch\n",
    "import torch.nn.functional as F\n",
    "from torch import nn\n",
    "from torch.utils.data import Dataset\n",
    "from torch.utils.data import DataLoader"
   ]
  },
  {
   "cell_type": "code",
   "execution_count": 2,
   "metadata": {},
   "outputs": [],
   "source": [
    "def plot_confusion_matrix(cm, classes,\n",
    "                          normalize=False,\n",
    "                          title='Confusion matrix',\n",
    "                          cmap=plt.cm.Blues):\n",
    " \n",
    "    plt.imshow(cm, interpolation='nearest', cmap=cmap)\n",
    "    plt.title(title)\n",
    "    plt.colorbar()\n",
    "    tick_marks = np.arange(len(classes))\n",
    "    plt.xticks(tick_marks, classes, rotation=45)\n",
    "    plt.yticks(tick_marks, classes)\n",
    " \n",
    "    fmt = '.2f' if normalize else 'd'\n",
    "    thresh = cm.max() / 2.\n",
    "    for i, j in itertools.product(range(cm.shape[0]), range(cm.shape[1])):\n",
    "        plt.text(j, i, format(cm[i, j], fmt),\n",
    "                 horizontalalignment=\"center\",\n",
    "                 color=\"white\" if cm[i, j] > thresh else \"black\")\n",
    " \n",
    "    plt.tight_layout()\n",
    "    plt.ylabel('True label')\n",
    "    plt.xlabel('Predicted label')"
   ]
  },
  {
   "cell_type": "markdown",
   "metadata": {},
   "source": [
    "Подготовим классы из pytorch:"
   ]
  },
  {
   "cell_type": "code",
   "execution_count": 3,
   "metadata": {
    "tags": []
   },
   "outputs": [],
   "source": [
    "class MyDataset(Dataset):\n",
    "    def __init__(self, X, y):\n",
    "        self.X = torch.from_numpy(X.astype(np.float32))\n",
    "        self.y = torch.from_numpy(y.astype(np.float32))\n",
    "    \n",
    "    def __getitem__(self, index):\n",
    "        return self.X[index], self.y[index]\n",
    "    \n",
    "    def __len__(self):\n",
    "        return self.X.shape[0]\n",
    "    \n",
    "    \n",
    "class ClassificationNet(nn.Module):\n",
    "    def __init__(self, in_feature):\n",
    "        super().__init__()\n",
    "        \n",
    "        self.hidden1 = nn.Linear(in_feature, 256)\n",
    "        self.f1 = nn.Sigmoid()\n",
    "        self.hidden2 = nn.Linear(256, 10)\n",
    "        self.f2 = nn.Sigmoid()\n",
    "        self.output = nn.Linear(10, 1)\n",
    "        self.f3 = nn.Sigmoid()\n",
    "        \n",
    "    def forward(self, x):\n",
    "        x = self.f1(self.hidden1(x))\n",
    "        x = self.f2(self.hidden2(x))\n",
    "        x = self.f3(self.output(x))\n",
    "        \n",
    "        return x"
   ]
  },
  {
   "cell_type": "code",
   "execution_count": 4,
   "metadata": {},
   "outputs": [],
   "source": [
    "start = datetime.now()"
   ]
  },
  {
   "cell_type": "markdown",
   "metadata": {},
   "source": [
    "Прочитаем подготовленные чанки с данными:"
   ]
  },
  {
   "cell_type": "code",
   "execution_count": 5,
   "metadata": {},
   "outputs": [
    {
     "name": "stdout",
     "output_type": "stream",
     "text": [
      "0. chunk_path data/processed_data/train/processed_chunk_000.parquet\n",
      "1. chunk_path data/processed_data/train/processed_chunk_001.parquet\n",
      "2. chunk_path data/processed_data/train/processed_chunk_002.parquet\n",
      "3. chunk_path data/processed_data/train/processed_chunk_003.parquet\n",
      "4. chunk_path data/processed_data/train/processed_chunk_004.parquet\n",
      "5. chunk_path data/processed_data/train/processed_chunk_005.parquet\n",
      "6. chunk_path data/processed_data/train/processed_chunk_006.parquet\n",
      "7. chunk_path data/processed_data/train/processed_chunk_007.parquet\n",
      "8. chunk_path data/processed_data/train/processed_chunk_008.parquet\n",
      "9. chunk_path data/processed_data/train/processed_chunk_009.parquet\n",
      "10. chunk_path data/processed_data/train/processed_chunk_010.parquet\n",
      "11. chunk_path data/processed_data/train/processed_chunk_011.parquet\n"
     ]
    },
    {
     "data": {
      "text/plain": [
       "0"
      ]
     },
     "execution_count": 5,
     "metadata": {},
     "output_type": "execute_result"
    }
   ],
   "source": [
    "path_to_dataset = 'data/processed_data/train'\n",
    "\n",
    "dataset_paths = sorted([os.path.join(path_to_dataset, filename) for filename in os.listdir(path_to_dataset) \n",
    "                        if filename.startswith('processed_chunk')])\n",
    "\n",
    "frames = []\n",
    "\n",
    "for step, chunk_path in enumerate(dataset_paths):\n",
    "    print(f'{step}. chunk_path {chunk_path}')\n",
    "    frames.append(pd.read_parquet(chunk_path, columns=None))\n",
    "\n",
    "df = pd.concat(frames, axis=0).fillna(0.)\n",
    "total_features = df.columns\n",
    "del df, frames\n",
    "gc.collect()"
   ]
  },
  {
   "cell_type": "code",
   "execution_count": 6,
   "metadata": {},
   "outputs": [
    {
     "name": "stdout",
     "output_type": "stream",
     "text": [
      "ClassificationNet(\n",
      "  (hidden1): Linear(in_features=360, out_features=256, bias=True)\n",
      "  (f1): Sigmoid()\n",
      "  (hidden2): Linear(in_features=256, out_features=10, bias=True)\n",
      "  (f2): Sigmoid()\n",
      "  (output): Linear(in_features=10, out_features=1, bias=True)\n",
      "  (f3): Sigmoid()\n",
      ")\n"
     ]
    }
   ],
   "source": [
    "#выбираем девайс на котором будет обучаться модель\n",
    "device = torch.device('cuda:0' if torch.cuda.is_available() else 'cpu')\n",
    "\n",
    "#задаем параметры\n",
    "num_epochs = 10\n",
    "batch_size = 1024\n",
    "learning_rate = 0.0001\n",
    "\n",
    "#объявляем модель перед загрузкой чанков\n",
    "model = ClassificationNet(in_feature=len(total_features)-2)\n",
    "model.to(device)\n",
    "print(model)\n",
    "\n",
    "#объявляем оптимайзер\n",
    "optimizer = torch.optim.Adam(model.parameters(), lr=learning_rate)\n",
    "\n",
    "#объявляем списки метрик\n",
    "loss_test = []\n",
    "roc_auc_test = []"
   ]
  },
  {
   "cell_type": "markdown",
   "metadata": {},
   "source": [
    "Обучим модель с учетом весов классов:"
   ]
  },
  {
   "cell_type": "code",
   "execution_count": 7,
   "metadata": {},
   "outputs": [
    {
     "name": "stdout",
     "output_type": "stream",
     "text": [
      "Loading data: data/processed_data/train/processed_chunk_000.parquet\n",
      "epoch   1 | loss 0.68022 | roc_auc 0.68064\n",
      "epoch   2 | loss 0.65731 | roc_auc 0.71483\n",
      "epoch   3 | loss 0.63974 | roc_auc 0.72101\n",
      "epoch   4 | loss 0.62897 | roc_auc 0.72536\n",
      "epoch   5 | loss 0.62213 | roc_auc 0.72868\n",
      "epoch   6 | loss 0.61738 | roc_auc 0.73163\n",
      "epoch   7 | loss 0.61371 | roc_auc 0.73464\n",
      "epoch   8 | loss 0.61060 | roc_auc 0.73780\n",
      "epoch   9 | loss 0.60785 | roc_auc 0.74065\n",
      "epoch  10 | loss 0.60542 | roc_auc 0.74310\n",
      "\n",
      "Loading data: data/processed_data/train/processed_chunk_001.parquet\n",
      "epoch   1 | loss 0.60834 | roc_auc 0.73875\n",
      "epoch   2 | loss 0.60666 | roc_auc 0.74022\n",
      "epoch   3 | loss 0.60519 | roc_auc 0.74145\n",
      "epoch   4 | loss 0.60384 | roc_auc 0.74264\n",
      "epoch   5 | loss 0.60260 | roc_auc 0.74376\n",
      "epoch   6 | loss 0.60144 | roc_auc 0.74481\n",
      "epoch   7 | loss 0.60037 | roc_auc 0.74579\n",
      "epoch   8 | loss 0.59937 | roc_auc 0.74668\n",
      "epoch   9 | loss 0.59844 | roc_auc 0.74753\n",
      "epoch  10 | loss 0.59757 | roc_auc 0.74833\n",
      "\n",
      "Loading data: data/processed_data/train/processed_chunk_002.parquet\n",
      "epoch   1 | loss 0.62926 | roc_auc 0.70264\n",
      "epoch   2 | loss 0.62641 | roc_auc 0.70711\n",
      "epoch   3 | loss 0.62456 | roc_auc 0.70989\n",
      "epoch   4 | loss 0.62317 | roc_auc 0.71193\n",
      "epoch   5 | loss 0.62204 | roc_auc 0.71349\n",
      "epoch   6 | loss 0.62109 | roc_auc 0.71476\n",
      "epoch   7 | loss 0.62027 | roc_auc 0.71583\n",
      "epoch   8 | loss 0.61954 | roc_auc 0.71674\n",
      "epoch   9 | loss 0.61889 | roc_auc 0.71755\n",
      "epoch  10 | loss 0.61831 | roc_auc 0.71829\n",
      "\n",
      "Loading data: data/processed_data/train/processed_chunk_003.parquet\n",
      "epoch   1 | loss 0.61301 | roc_auc 0.72617\n",
      "epoch   2 | loss 0.61154 | roc_auc 0.72820\n",
      "epoch   3 | loss 0.61042 | roc_auc 0.72965\n",
      "epoch   4 | loss 0.60950 | roc_auc 0.73080\n",
      "epoch   5 | loss 0.60873 | roc_auc 0.73175\n",
      "epoch   6 | loss 0.60805 | roc_auc 0.73256\n",
      "epoch   7 | loss 0.60746 | roc_auc 0.73325\n",
      "epoch   8 | loss 0.60693 | roc_auc 0.73384\n",
      "epoch   9 | loss 0.60646 | roc_auc 0.73438\n",
      "epoch  10 | loss 0.60604 | roc_auc 0.73485\n",
      "\n",
      "Loading data: data/processed_data/train/processed_chunk_004.parquet\n",
      "epoch   1 | loss 0.58414 | roc_auc 0.76152\n",
      "epoch   2 | loss 0.58228 | roc_auc 0.76347\n",
      "epoch   3 | loss 0.58117 | roc_auc 0.76464\n",
      "epoch   4 | loss 0.58039 | roc_auc 0.76543\n",
      "epoch   5 | loss 0.57978 | roc_auc 0.76603\n",
      "epoch   6 | loss 0.57929 | roc_auc 0.76652\n",
      "epoch   7 | loss 0.57887 | roc_auc 0.76690\n",
      "epoch   8 | loss 0.57851 | roc_auc 0.76722\n",
      "epoch   9 | loss 0.57819 | roc_auc 0.76750\n",
      "epoch  10 | loss 0.57792 | roc_auc 0.76773\n",
      "\n",
      "Loading data: data/processed_data/train/processed_chunk_005.parquet\n",
      "epoch   1 | loss 0.58990 | roc_auc 0.75450\n",
      "epoch   2 | loss 0.58967 | roc_auc 0.75467\n",
      "epoch   3 | loss 0.58957 | roc_auc 0.75466\n",
      "epoch   4 | loss 0.58954 | roc_auc 0.75461\n",
      "epoch   5 | loss 0.58953 | roc_auc 0.75454\n",
      "epoch   6 | loss 0.58954 | roc_auc 0.75445\n",
      "epoch   7 | loss 0.58956 | roc_auc 0.75435\n",
      "epoch   8 | loss 0.58959 | roc_auc 0.75424\n",
      "epoch   9 | loss 0.58963 | roc_auc 0.75412\n",
      "epoch  10 | loss 0.58968 | roc_auc 0.75400\n",
      "\n",
      "Loading data: data/processed_data/train/processed_chunk_006.parquet\n",
      "epoch   1 | loss 0.58562 | roc_auc 0.75811\n",
      "epoch   2 | loss 0.58545 | roc_auc 0.75822\n",
      "epoch   3 | loss 0.58537 | roc_auc 0.75823\n",
      "epoch   4 | loss 0.58532 | roc_auc 0.75820\n",
      "epoch   5 | loss 0.58529 | roc_auc 0.75816\n",
      "epoch   6 | loss 0.58526 | roc_auc 0.75812\n",
      "epoch   7 | loss 0.58523 | roc_auc 0.75807\n",
      "epoch   8 | loss 0.58521 | roc_auc 0.75802\n",
      "epoch   9 | loss 0.58518 | roc_auc 0.75797\n",
      "epoch  10 | loss 0.58515 | roc_auc 0.75792\n",
      "\n",
      "Loading data: data/processed_data/train/processed_chunk_007.parquet\n",
      "epoch   1 | loss 0.59128 | roc_auc 0.75018\n",
      "epoch   2 | loss 0.59098 | roc_auc 0.75043\n",
      "epoch   3 | loss 0.59081 | roc_auc 0.75056\n",
      "epoch   4 | loss 0.59070 | roc_auc 0.75064\n",
      "epoch   5 | loss 0.59064 | roc_auc 0.75065\n",
      "epoch   6 | loss 0.59062 | roc_auc 0.75064\n",
      "epoch   7 | loss 0.59062 | roc_auc 0.75062\n",
      "epoch   8 | loss 0.59064 | roc_auc 0.75060\n",
      "epoch   9 | loss 0.59068 | roc_auc 0.75053\n",
      "epoch  10 | loss 0.59074 | roc_auc 0.75045\n",
      "\n",
      "Loading data: data/processed_data/train/processed_chunk_008.parquet\n",
      "epoch   1 | loss 0.59426 | roc_auc 0.74691\n",
      "epoch   2 | loss 0.59403 | roc_auc 0.74719\n",
      "epoch   3 | loss 0.59388 | roc_auc 0.74733\n",
      "epoch   4 | loss 0.59378 | roc_auc 0.74744\n",
      "epoch   5 | loss 0.59371 | roc_auc 0.74752\n",
      "epoch   6 | loss 0.59366 | roc_auc 0.74757\n",
      "epoch   7 | loss 0.59363 | roc_auc 0.74759\n",
      "epoch   8 | loss 0.59363 | roc_auc 0.74759\n",
      "epoch   9 | loss 0.59365 | roc_auc 0.74757\n",
      "epoch  10 | loss 0.59367 | roc_auc 0.74754\n",
      "\n",
      "Loading data: data/processed_data/train/processed_chunk_009.parquet\n",
      "epoch   1 | loss 0.59867 | roc_auc 0.74320\n",
      "epoch   2 | loss 0.59803 | roc_auc 0.74388\n",
      "epoch   3 | loss 0.59756 | roc_auc 0.74435\n",
      "epoch   4 | loss 0.59719 | roc_auc 0.74469\n",
      "epoch   5 | loss 0.59688 | roc_auc 0.74497\n",
      "epoch   6 | loss 0.59662 | roc_auc 0.74522\n",
      "epoch   7 | loss 0.59639 | roc_auc 0.74542\n",
      "epoch   8 | loss 0.59620 | roc_auc 0.74560\n",
      "epoch   9 | loss 0.59603 | roc_auc 0.74574\n",
      "epoch  10 | loss 0.59588 | roc_auc 0.74586\n",
      "\n",
      "Loading data: data/processed_data/train/processed_chunk_010.parquet\n",
      "epoch   1 | loss 0.59356 | roc_auc 0.74754\n",
      "epoch   2 | loss 0.59349 | roc_auc 0.74761\n",
      "epoch   3 | loss 0.59344 | roc_auc 0.74766\n",
      "epoch   4 | loss 0.59343 | roc_auc 0.74765\n",
      "epoch   5 | loss 0.59345 | roc_auc 0.74762\n",
      "epoch   6 | loss 0.59349 | roc_auc 0.74755\n",
      "epoch   7 | loss 0.59353 | roc_auc 0.74748\n",
      "epoch   8 | loss 0.59359 | roc_auc 0.74739\n",
      "epoch   9 | loss 0.59365 | roc_auc 0.74729\n",
      "epoch  10 | loss 0.59372 | roc_auc 0.74719\n",
      "\n",
      "Loading data: data/processed_data/train/processed_chunk_011.parquet\n",
      "epoch   1 | loss 0.58472 | roc_auc 0.75849\n",
      "epoch   2 | loss 0.58443 | roc_auc 0.75879\n",
      "epoch   3 | loss 0.58419 | roc_auc 0.75900\n",
      "epoch   4 | loss 0.58399 | roc_auc 0.75917\n",
      "epoch   5 | loss 0.58381 | roc_auc 0.75929\n",
      "epoch   6 | loss 0.58367 | roc_auc 0.75938\n",
      "epoch   7 | loss 0.58355 | roc_auc 0.75943\n",
      "epoch   8 | loss 0.58346 | roc_auc 0.75946\n",
      "epoch   9 | loss 0.58338 | roc_auc 0.75948\n",
      "epoch  10 | loss 0.58332 | roc_auc 0.75948\n",
      "\n"
     ]
    }
   ],
   "source": [
    "chunk_paths = sorted([os.path.join(path_to_dataset, filename) for filename in os.listdir(path_to_dataset)\n",
    "                              if filename.startswith('processed')])\n",
    "\n",
    "for chunk_path in chunk_paths:\n",
    "    #загружаем чанк\n",
    "    print(f'Loading data: {chunk_path}')\n",
    "    data = pd.DataFrame(pd.read_parquet(chunk_path), \n",
    "                        columns=list(total_features)).fillna(0.)\n",
    "\n",
    "    #разделяем на трейн и тест\n",
    "    X = data.drop(['id', 'flag'], axis=1).to_numpy()\n",
    "    y = data['flag'].to_numpy()\n",
    "    X_train, X_test, y_train, y_test = train_test_split(X, y, train_size=0.8, random_state=12, stratify=y)\n",
    "    del data\n",
    "\n",
    "    #считаем веса классов\n",
    "    class_weights = class_weight.compute_class_weight(class_weight='balanced', \n",
    "                                                      classes=np.unique(y_train), \n",
    "                                                      y=y_train)\n",
    "    class_weights = torch.tensor(class_weights, dtype=torch.float)\n",
    "\n",
    "    #объявляем датасет\n",
    "    train_dataset = MyDataset(X_train, y_train)\n",
    "    X_test_tensor = torch.from_numpy(X_test.astype(np.float32)).to(device)\n",
    "    y_test_tensor = torch.from_numpy(y_test.astype(np.float32)).to(device)\n",
    "\n",
    "    #объявляем даталоадер\n",
    "    train_dataloader = DataLoader(train_dataset, batch_size=batch_size, shuffle=False)\n",
    "\n",
    "    for epoch in range(num_epochs):\n",
    "        for X, y in train_dataloader:\n",
    "            X, y = X.to(device), y.to(device)\n",
    "            pred = model(X)\n",
    "            weights = torch.zeros_like(y.unsqueeze(-1))\n",
    "            weights[y==0] = class_weights[0]\n",
    "            weights[y==1] = class_weights[1]\n",
    "            loss = F.binary_cross_entropy(pred, y.unsqueeze(-1), weight=weights)\n",
    "            optimizer.zero_grad()\n",
    "            loss.backward()\n",
    "            optimizer.step()\n",
    "\n",
    "        with torch.no_grad():\n",
    "            weights = torch.zeros_like(y_test_tensor.unsqueeze(-1))\n",
    "            weights[y_test_tensor==0] = class_weights[0]\n",
    "            weights[y_test_tensor==1] = class_weights[1]\n",
    "            loss = F.binary_cross_entropy(model(X_test_tensor), y_test_tensor.unsqueeze(-1), weight=weights).item()\n",
    "            fpr, tpr, _ = roc_curve(y_test, model(X_test_tensor).cpu().detach().numpy().ravel())\n",
    "            roc_auc = auc(fpr, tpr)\n",
    "            loss_test.append(loss)\n",
    "            roc_auc_test.append(roc_auc)\n",
    "            print(f'epoch {epoch + 1:3.0f} | loss {loss:0.5f} | roc_auc {roc_auc:0.5f}')\n",
    "            \n",
    "    print()"
   ]
  },
  {
   "cell_type": "markdown",
   "metadata": {},
   "source": [
    "Сохраним модель в файл:"
   ]
  },
  {
   "cell_type": "code",
   "execution_count": 8,
   "metadata": {},
   "outputs": [],
   "source": [
    "torch.save(model, 'data/single_models/model_state_dict.pth')"
   ]
  },
  {
   "cell_type": "code",
   "execution_count": 9,
   "metadata": {},
   "outputs": [
    {
     "data": {
      "image/png": "[encoded data removed]",
      "text/plain": [
       "<Figure size 800x500 with 1 Axes>"
      ]
     },
     "metadata": {},
     "output_type": "display_data"
    }
   ],
   "source": [
    "step = np.arange(0, num_epochs*len(chunk_paths))\n",
    "epochs = [x*10 for x in range(len(chunk_paths) + 1)]\n",
    "\n",
    "fig, ax = plt.subplots(figsize=(8,5))\n",
    "plt.plot(step, np.array(loss_test))\n",
    "\n",
    "plt.title('Loss')\n",
    "plt.xlabel('Epochs')\n",
    "plt.ylabel('Loss')\n",
    "plt.axvline(x=0, c='red', linewidth=0.5)\n",
    "for e in epochs:\n",
    "    plt.axvline(x=e, c='red', linewidth=0.5)\n",
    "plt.savefig('pictures/Single_model_1.png', bbox_inches='tight');"
   ]
  },
  {
   "cell_type": "markdown",
   "metadata": {},
   "source": [
    "**Из-за неоднородности данных мы видим скачки при переходе между чанками, но в целом ошибка уменьшается.**"
   ]
  },
  {
   "cell_type": "code",
   "execution_count": 10,
   "metadata": {},
   "outputs": [
    {
     "data": {
      "image/png": "[encoded data removed]",
      "text/plain": [
       "<Figure size 800x500 with 1 Axes>"
      ]
     },
     "metadata": {},
     "output_type": "display_data"
    }
   ],
   "source": [
    "step = np.arange(0, num_epochs*len(chunk_paths))\n",
    "\n",
    "fig, ax = plt.subplots(figsize=(8,5))\n",
    "plt.plot(step, np.array(roc_auc_test))\n",
    "\n",
    "plt.title('AUC on validation data')\n",
    "plt.xlabel('Epochs')\n",
    "plt.ylabel('AUC')\n",
    "plt.axvline(x=0, c='red', linewidth=0.5)\n",
    "for e in epochs:\n",
    "    plt.axvline(x=e, c='red', linewidth=0.5)\n",
    "plt.savefig('pictures/Single_model_2.png', bbox_inches='tight')"
   ]
  },
  {
   "cell_type": "markdown",
   "metadata": {},
   "source": [
    "**Аналогично метрика auc на тестовом тензоре растет скачками, но в целом улучшается.**"
   ]
  },
  {
   "cell_type": "code",
   "execution_count": 11,
   "metadata": {},
   "outputs": [
    {
     "data": {
      "text/html": [
       "<div>\n",
       "<style scoped>\n",
       "    .dataframe tbody tr th:only-of-type {\n",
       "        vertical-align: middle;\n",
       "    }\n",
       "\n",
       "    .dataframe tbody tr th {\n",
       "        vertical-align: top;\n",
       "    }\n",
       "\n",
       "    .dataframe thead th {\n",
       "        text-align: right;\n",
       "    }\n",
       "</style>\n",
       "<table border=\"1\" class=\"dataframe\">\n",
       "  <thead>\n",
       "    <tr style=\"text-align: right;\">\n",
       "      <th></th>\n",
       "      <th>id</th>\n",
       "      <th>pre_since_opened_1</th>\n",
       "      <th>pre_since_opened_2</th>\n",
       "      <th>pre_since_opened_3</th>\n",
       "      <th>pre_since_opened_4</th>\n",
       "      <th>pre_since_opened_5</th>\n",
       "      <th>pre_since_opened_6</th>\n",
       "      <th>pre_since_opened_7</th>\n",
       "      <th>pre_since_opened_8</th>\n",
       "      <th>pre_since_opened_9</th>\n",
       "      <th>...</th>\n",
       "      <th>pre_loans530_8</th>\n",
       "      <th>pre_loans530_9</th>\n",
       "      <th>pre_loans_total_overdue_1</th>\n",
       "      <th>pre_loans_max_overdue_sum_1</th>\n",
       "      <th>pre_loans3060_1</th>\n",
       "      <th>pre_loans3060_3</th>\n",
       "      <th>pre_loans3060_4</th>\n",
       "      <th>pre_loans6090_1</th>\n",
       "      <th>pre_loans5_10</th>\n",
       "      <th>pre_loans530_17</th>\n",
       "    </tr>\n",
       "  </thead>\n",
       "  <tbody>\n",
       "    <tr>\n",
       "      <th>42594</th>\n",
       "      <td>42594</td>\n",
       "      <td>0.0</td>\n",
       "      <td>0.0</td>\n",
       "      <td>0.0</td>\n",
       "      <td>0.0</td>\n",
       "      <td>0.0</td>\n",
       "      <td>3.0</td>\n",
       "      <td>0.0</td>\n",
       "      <td>1.0</td>\n",
       "      <td>0.0</td>\n",
       "      <td>...</td>\n",
       "      <td>0.0</td>\n",
       "      <td>0.0</td>\n",
       "      <td>0.0</td>\n",
       "      <td>0.0</td>\n",
       "      <td>0.0</td>\n",
       "      <td>0.0</td>\n",
       "      <td>0.0</td>\n",
       "      <td>0.0</td>\n",
       "      <td>0.0</td>\n",
       "      <td>0.0</td>\n",
       "    </tr>\n",
       "    <tr>\n",
       "      <th>168419</th>\n",
       "      <td>168419</td>\n",
       "      <td>1.0</td>\n",
       "      <td>0.0</td>\n",
       "      <td>1.0</td>\n",
       "      <td>2.0</td>\n",
       "      <td>0.0</td>\n",
       "      <td>2.0</td>\n",
       "      <td>1.0</td>\n",
       "      <td>0.0</td>\n",
       "      <td>0.0</td>\n",
       "      <td>...</td>\n",
       "      <td>0.0</td>\n",
       "      <td>0.0</td>\n",
       "      <td>0.0</td>\n",
       "      <td>0.0</td>\n",
       "      <td>0.0</td>\n",
       "      <td>0.0</td>\n",
       "      <td>0.0</td>\n",
       "      <td>0.0</td>\n",
       "      <td>0.0</td>\n",
       "      <td>0.0</td>\n",
       "    </tr>\n",
       "    <tr>\n",
       "      <th>58629</th>\n",
       "      <td>58629</td>\n",
       "      <td>1.0</td>\n",
       "      <td>0.0</td>\n",
       "      <td>0.0</td>\n",
       "      <td>0.0</td>\n",
       "      <td>0.0</td>\n",
       "      <td>0.0</td>\n",
       "      <td>1.0</td>\n",
       "      <td>0.0</td>\n",
       "      <td>1.0</td>\n",
       "      <td>...</td>\n",
       "      <td>0.0</td>\n",
       "      <td>0.0</td>\n",
       "      <td>0.0</td>\n",
       "      <td>0.0</td>\n",
       "      <td>0.0</td>\n",
       "      <td>0.0</td>\n",
       "      <td>0.0</td>\n",
       "      <td>0.0</td>\n",
       "      <td>0.0</td>\n",
       "      <td>0.0</td>\n",
       "    </tr>\n",
       "    <tr>\n",
       "      <th>222749</th>\n",
       "      <td>222749</td>\n",
       "      <td>0.0</td>\n",
       "      <td>0.0</td>\n",
       "      <td>1.0</td>\n",
       "      <td>0.0</td>\n",
       "      <td>0.0</td>\n",
       "      <td>1.0</td>\n",
       "      <td>0.0</td>\n",
       "      <td>2.0</td>\n",
       "      <td>0.0</td>\n",
       "      <td>...</td>\n",
       "      <td>0.0</td>\n",
       "      <td>0.0</td>\n",
       "      <td>0.0</td>\n",
       "      <td>0.0</td>\n",
       "      <td>0.0</td>\n",
       "      <td>0.0</td>\n",
       "      <td>0.0</td>\n",
       "      <td>0.0</td>\n",
       "      <td>0.0</td>\n",
       "      <td>0.0</td>\n",
       "    </tr>\n",
       "    <tr>\n",
       "      <th>90249</th>\n",
       "      <td>90249</td>\n",
       "      <td>0.0</td>\n",
       "      <td>2.0</td>\n",
       "      <td>0.0</td>\n",
       "      <td>0.0</td>\n",
       "      <td>0.0</td>\n",
       "      <td>0.0</td>\n",
       "      <td>0.0</td>\n",
       "      <td>0.0</td>\n",
       "      <td>0.0</td>\n",
       "      <td>...</td>\n",
       "      <td>0.0</td>\n",
       "      <td>0.0</td>\n",
       "      <td>0.0</td>\n",
       "      <td>0.0</td>\n",
       "      <td>0.0</td>\n",
       "      <td>0.0</td>\n",
       "      <td>0.0</td>\n",
       "      <td>0.0</td>\n",
       "      <td>0.0</td>\n",
       "      <td>0.0</td>\n",
       "    </tr>\n",
       "  </tbody>\n",
       "</table>\n",
       "<p>5 rows × 362 columns</p>\n",
       "</div>"
      ],
      "text/plain": [
       "            id  pre_since_opened_1  pre_since_opened_2  pre_since_opened_3  \\\n",
       "42594    42594                 0.0                 0.0                 0.0   \n",
       "168419  168419                 1.0                 0.0                 1.0   \n",
       "58629    58629                 1.0                 0.0                 0.0   \n",
       "222749  222749                 0.0                 0.0                 1.0   \n",
       "90249    90249                 0.0                 2.0                 0.0   \n",
       "\n",
       "        pre_since_opened_4  pre_since_opened_5  pre_since_opened_6  \\\n",
       "42594                  0.0                 0.0                 3.0   \n",
       "168419                 2.0                 0.0                 2.0   \n",
       "58629                  0.0                 0.0                 0.0   \n",
       "222749                 0.0                 0.0                 1.0   \n",
       "90249                  0.0                 0.0                 0.0   \n",
       "\n",
       "        pre_since_opened_7  pre_since_opened_8  pre_since_opened_9  ...  \\\n",
       "42594                  0.0                 1.0                 0.0  ...   \n",
       "168419                 1.0                 0.0                 0.0  ...   \n",
       "58629                  1.0                 0.0                 1.0  ...   \n",
       "222749                 0.0                 2.0                 0.0  ...   \n",
       "90249                  0.0                 0.0                 0.0  ...   \n",
       "\n",
       "        pre_loans530_8  pre_loans530_9  pre_loans_total_overdue_1  \\\n",
       "42594              0.0             0.0                        0.0   \n",
       "168419             0.0             0.0                        0.0   \n",
       "58629              0.0             0.0                        0.0   \n",
       "222749             0.0             0.0                        0.0   \n",
       "90249              0.0             0.0                        0.0   \n",
       "\n",
       "        pre_loans_max_overdue_sum_1  pre_loans3060_1  pre_loans3060_3  \\\n",
       "42594                           0.0              0.0              0.0   \n",
       "168419                          0.0              0.0              0.0   \n",
       "58629                           0.0              0.0              0.0   \n",
       "222749                          0.0              0.0              0.0   \n",
       "90249                           0.0              0.0              0.0   \n",
       "\n",
       "        pre_loans3060_4  pre_loans6090_1  pre_loans5_10  pre_loans530_17  \n",
       "42594               0.0              0.0            0.0              0.0  \n",
       "168419              0.0              0.0            0.0              0.0  \n",
       "58629               0.0              0.0            0.0              0.0  \n",
       "222749              0.0              0.0            0.0              0.0  \n",
       "90249               0.0              0.0            0.0              0.0  \n",
       "\n",
       "[5 rows x 362 columns]"
      ]
     },
     "execution_count": 11,
     "metadata": {},
     "output_type": "execute_result"
    }
   ],
   "source": [
    "# Выберем предварительно подготовленный тестовый датасет, который не участвовал в обучении до этого\n",
    "data = pd.DataFrame(pd.read_parquet('data/processed_data/test/test.parquet').head(100000), \n",
    "                    columns=list(total_features)).fillna(0.)\n",
    "data.head()"
   ]
  },
  {
   "cell_type": "code",
   "execution_count": 12,
   "metadata": {},
   "outputs": [],
   "source": [
    "X_test = data.drop(['id', 'flag'], axis=1)\n",
    "X_test_tensor = torch.tensor(X_test.values.astype(np.float32))"
   ]
  },
  {
   "cell_type": "code",
   "execution_count": 13,
   "metadata": {},
   "outputs": [
    {
     "data": {
      "text/plain": [
       "ClassificationNet(\n",
       "  (hidden1): Linear(in_features=360, out_features=256, bias=True)\n",
       "  (f1): Sigmoid()\n",
       "  (hidden2): Linear(in_features=256, out_features=10, bias=True)\n",
       "  (f2): Sigmoid()\n",
       "  (output): Linear(in_features=10, out_features=1, bias=True)\n",
       "  (f3): Sigmoid()\n",
       ")"
      ]
     },
     "execution_count": 13,
     "metadata": {},
     "output_type": "execute_result"
    }
   ],
   "source": [
    "model = torch.load('data/single_models/model_state_dict.pth')\n",
    "model.eval()"
   ]
  },
  {
   "cell_type": "code",
   "execution_count": 14,
   "metadata": {},
   "outputs": [],
   "source": [
    "y_test = data['flag']\n",
    "y_pred = np.round(model(X_test_tensor).cpu().detach().numpy().ravel())"
   ]
  },
  {
   "cell_type": "code",
   "execution_count": 15,
   "metadata": {},
   "outputs": [
    {
     "name": "stdout",
     "output_type": "stream",
     "text": [
      "              precision    recall  f1-score   support\n",
      "\n",
      "           0       0.99      0.62      0.76     96811\n",
      "           1       0.06      0.77      0.12      3189\n",
      "\n",
      "    accuracy                           0.62    100000\n",
      "   macro avg       0.53      0.70      0.44    100000\n",
      "weighted avg       0.96      0.62      0.74    100000\n",
      "\n"
     ]
    }
   ],
   "source": [
    "print(classification_report(y_test, y_pred))"
   ]
  },
  {
   "cell_type": "code",
   "execution_count": 16,
   "metadata": {},
   "outputs": [
    {
     "data": {
      "image/png": "[encoded data removed]",
      "text/plain": [
       "<Figure size 640x480 with 2 Axes>"
      ]
     },
     "metadata": {},
     "output_type": "display_data"
    }
   ],
   "source": [
    "plot_confusion_matrix(confusion_matrix(y_test, y_pred), classes=['0','1'],\n",
    "                      title='Single Model')\n",
    "plt.savefig('pictures/Single_model_3.png', bbox_inches='tight');"
   ]
  },
  {
   "cell_type": "markdown",
   "metadata": {},
   "source": [
    "**Модель хорошо помечает положительные классы, так что на каждого пропущенного мошенника приходится в среднем 3.2 верно определенных мошенников. При этом модель ошибается на отрицательном классе, но это допустимо в задачах банкинга.**"
   ]
  },
  {
   "cell_type": "code",
   "execution_count": 17,
   "metadata": {},
   "outputs": [
    {
     "data": {
      "image/png": "[encoded data removed]",
      "text/plain": [
       "<Figure size 640x480 with 1 Axes>"
      ]
     },
     "metadata": {},
     "output_type": "display_data"
    }
   ],
   "source": [
    "y_pred_proba = model(X_test_tensor).cpu().detach().numpy().ravel()\n",
    "fpr, tpr, _ = roc_curve(y_test, y_pred_proba)\n",
    "roc_auc = auc(fpr, tpr)\n",
    "\n",
    "RocCurveDisplay(fpr=fpr, tpr=tpr, roc_auc=roc_auc).plot()\n",
    "plt.savefig('pictures/Single_model_4.png', bbox_inches='tight');"
   ]
  },
  {
   "cell_type": "markdown",
   "metadata": {},
   "source": [
    "**Значение метрики auc получилось выше целевого, что можно взять за основу в продакшене.**"
   ]
  },
  {
   "cell_type": "markdown",
   "metadata": {},
   "source": [
    "# Результаты"
   ]
  },
  {
   "cell_type": "markdown",
   "metadata": {},
   "source": [
    "Сохраним лучшие результаты в таблицу scores:"
   ]
  },
  {
   "cell_type": "code",
   "execution_count": 18,
   "metadata": {},
   "outputs": [
    {
     "data": {
      "text/html": [
       "<div>\n",
       "<style scoped>\n",
       "    .dataframe tbody tr th:only-of-type {\n",
       "        vertical-align: middle;\n",
       "    }\n",
       "\n",
       "    .dataframe tbody tr th {\n",
       "        vertical-align: top;\n",
       "    }\n",
       "\n",
       "    .dataframe thead th {\n",
       "        text-align: right;\n",
       "    }\n",
       "</style>\n",
       "<table border=\"1\" class=\"dataframe\">\n",
       "  <thead>\n",
       "    <tr style=\"text-align: right;\">\n",
       "      <th></th>\n",
       "      <th>model</th>\n",
       "      <th>score</th>\n",
       "      <th>time</th>\n",
       "    </tr>\n",
       "  </thead>\n",
       "  <tbody>\n",
       "    <tr>\n",
       "      <th>0</th>\n",
       "      <td>Single</td>\n",
       "      <td>0.769174</td>\n",
       "      <td>223.0</td>\n",
       "    </tr>\n",
       "    <tr>\n",
       "      <th>1</th>\n",
       "      <td>Ensemble</td>\n",
       "      <td>0.774852</td>\n",
       "      <td>475.0</td>\n",
       "    </tr>\n",
       "    <tr>\n",
       "      <th>2</th>\n",
       "      <td>Linear</td>\n",
       "      <td>0.732219</td>\n",
       "      <td>602.0</td>\n",
       "    </tr>\n",
       "    <tr>\n",
       "      <th>3</th>\n",
       "      <td>CatBoost</td>\n",
       "      <td>0.768903</td>\n",
       "      <td>492.0</td>\n",
       "    </tr>\n",
       "    <tr>\n",
       "      <th>4</th>\n",
       "      <td>LightGBM</td>\n",
       "      <td>0.775573</td>\n",
       "      <td>118.0</td>\n",
       "    </tr>\n",
       "  </tbody>\n",
       "</table>\n",
       "</div>"
      ],
      "text/plain": [
       "      model     score   time\n",
       "0    Single  0.769174  223.0\n",
       "1  Ensemble  0.774852  475.0\n",
       "2    Linear  0.732219  602.0\n",
       "3  CatBoost  0.768903  492.0\n",
       "4  LightGBM  0.775573  118.0"
      ]
     },
     "execution_count": 18,
     "metadata": {},
     "output_type": "execute_result"
    }
   ],
   "source": [
    "# Запишем результаты метрики на отложенной выборке в сводную таблицу\n",
    "df_scores = pd.read_csv('data/scores.csv')\n",
    "df_scores.loc[df_scores['model'] == 'Single', 'score'] = roc_auc\n",
    "\n",
    "time = datetime.now() - start\n",
    "df_scores.loc[df_scores['model'] == 'Single', 'time'] = int(time.seconds)\n",
    "df_scores.head()"
   ]
  },
  {
   "cell_type": "code",
   "execution_count": 19,
   "metadata": {},
   "outputs": [],
   "source": [
    "df_scores.to_csv('data/scores.csv', index=False)"
   ]
  },
  {
   "cell_type": "code",
   "execution_count": null,
   "metadata": {},
   "outputs": [],
   "source": []
  }
 ],
 "metadata": {
  "kernelspec": {
   "display_name": "Python 3 (ipykernel)",
   "language": "python",
   "name": "python3"
  },
  "language_info": {
   "codemirror_mode": {
    "name": "ipython",
    "version": 3
   },
   "file_extension": ".py",
   "mimetype": "text/x-python",
   "name": "python",
   "nbconvert_exporter": "python",
   "pygments_lexer": "ipython3",
   "version": "3.10.12"
  }
 },
 "nbformat": 4,
 "nbformat_minor": 4
}
